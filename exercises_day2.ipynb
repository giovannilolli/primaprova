{
  "cells": [
    {
      "cell_type": "markdown",
      "metadata": {
        "id": "U8FCrwWHbLha"
      },
      "source": [
        "# Esercitazioni\n",
        "\n",
        "\n"
      ]
    },
    {
      "cell_type": "markdown",
      "metadata": {
        "id": "m1qrJtdVbfcP"
      },
      "source": [
        "**Esercitatore:** Cristiano De Nobili, PhD\n",
        "\n",
        "Vi lascio qua un mio contatto:\n",
        "\n",
        "[<img src=\"https://upload.wikimedia.org/wikipedia/commons/thumb/e/e7/Instagram_logo_2016.svg/2048px-Instagram_logo_2016.svg.png\" width=\"20\">](https://www.instagram.com/denocris/?hl=it) @denocris\n",
        "\n",
        "Sono un fisico delle particelle che da qualche anno si occupa principalmente di intelligenza artificiale, in particolare di Machine e Deep Learning. Ho lavorato nel ambito della Computer Vision e del linguaggio intelligente, il così detto Natural Language Processing. Sono inoltre interessato soprattutto all'applicazione di queste tecnologie a problemi di forte impatto sociale e ambientale. Inoltre mi appassionano anche i recenti sviluppi del settore AI legati alla computazione quantistica.\n",
        "\n",
        "slides: [here!](https://docs.google.com/presentation/d/e/2PACX-1vQuEybwQ3zfWxqeBklalALaQlQVF_qEcd2y48p99Ht_4Q7AEhG6hlO8hLrHZOOHP8SSy7gb5SwLSISe/pub?start=false&loop=false&delayms=60000)\n"
      ]
    },
    {
      "cell_type": "markdown",
      "metadata": {
        "id": "BGLFzmKehegu"
      },
      "source": [
        "# Day 1"
      ]
    },
    {
      "cell_type": "markdown",
      "metadata": {
        "id": "gc-BHxyifHj7"
      },
      "source": [
        "## 1. Debugging (ricerca degli errori)\n"
      ]
    },
    {
      "cell_type": "markdown",
      "metadata": {
        "id": "D5HlNju9fjQs"
      },
      "source": [
        "Lo script sottostante contiene dei bug, trovateli e correggeteli.\n"
      ]
    },
    {
      "cell_type": "code",
      "execution_count": 8,
      "metadata": {
        "id": "W4FkPx_AElME"
      },
      "outputs": [
        {
          "name": "stdout",
          "output_type": "stream",
          "text": [
            "Un quadrato di lato:  5  ha un'area di:  25\n",
            "Una circonferenza di raggio : 10  ha un'area di: area\n"
          ]
        }
      ],
      "source": [
        "lato=5\n",
        "raggio=10\n",
        "PI=3.14\n",
        "\n",
        "#nota: numero**2 vuol dire numero elevato al quadrato\n",
        "print (\"Un quadrato di lato: \",lato,\" ha un'area di: \",lato**2)\n",
        "area = (PI*raggio)**2\n",
        "print (\"Una circonferenza di raggio :\",raggio,\" ha un'area di: area\")\n",
        "# print (\"E ora prova tu, immetti un lato di un quadrato: \")\n",
        "# lato = input()\n",
        "# print (\"E poi immetti il raggio di una circonferenza:\")\n",
        "# raggio = input()\n",
        "# print (\"Un quadrato di lato: \"+lato+\" ha un'area di: \"+lato)\n",
        "# area = (PI*raggio)*2\n",
        "# print (\"Una circonferenza di raggio :\"+raggio+\" ha un'area di: \"+area)\n",
        "# print (\"Corretto?\")\n"
      ]
    },
    {
      "cell_type": "markdown",
      "metadata": {
        "id": "w0xgJM7pfYkl"
      },
      "source": [
        "### Soluzione:"
      ]
    },
    {
      "cell_type": "code",
      "execution_count": null,
      "metadata": {
        "colab": {
          "base_uri": "https://localhost:8080/"
        },
        "id": "BekA5zYpgnL2",
        "outputId": "99937719-d0e8-4dd2-bc83-2fd51340730c"
      },
      "outputs": [
        {
          "name": "stdout",
          "output_type": "stream",
          "text": [
            "Un quadrato di lato: 2.0 ha un'area di: 4.0\n",
            "Una circonferenza di raggio :3.0 ha un'area di: 28.26\n",
            "E ora prova tu, immetti un lato di un quadrato: \n",
            "2\n",
            "E poi immetti il raggio di una circonferenza:\n",
            "3\n",
            "Un quadrato di lato: 2.0 ha un'area di: 4.0\n",
            "Una circonferenza di raggio :3.0 ha un'area di: 28.26\n",
            "Corretto?\n"
          ]
        }
      ],
      "source": [
        "PI=3.14 #valore pi greca\n",
        "print (\"Un quadrato di lato: \"+str(lato)+\" ha un'area di: \"+str(lato**2)) #conversione di formato a stringa dentro print()\n",
        "area = PI*(raggio**2) #Le parentesi non servirebbero\n",
        "print (\"Una circonferenza di raggio :\"+str(raggio)+\" ha un'area di: \"+str(area)) #conversione di formato\n",
        "print (\"E ora prova tu, immetti un lato di un quadrato: \")\n",
        "lato = input()\n",
        "lato = float(lato)\n",
        "print (\"E poi immetti il raggio di una circonferenza:\")\n",
        "raggio = input() #nome funzione\n",
        "raggio = float(raggio)\n",
        "print (\"Un quadrato di lato: \"+str(lato)+\" ha un'area di: \"+str(lato**2)) #formato ed elevamento al quadrato\n",
        "arena = PI*raggio**2 #parentesi, nome variabile, elevamento a potenza\n",
        "print (\"Una circonferenza di raggio :\"+str(raggio)+\" ha un'area di: \"+str(area))\n",
        "print (\"Corretto?\") #posizione virgolette"
      ]
    },
    {
      "cell_type": "markdown",
      "metadata": {
        "id": "3usGgQ6ypEez"
      },
      "source": [
        "## 2. Input/Output  \n"
      ]
    },
    {
      "cell_type": "markdown",
      "metadata": {
        "id": "OfpQKzX7pUgS"
      },
      "source": [
        "Scrivete un programma che prenda da tastiera una serie di numeri (almeno 2) e una serie di stringhe di testo (almeno 2) e:\n",
        "  * Stampate a video ogni valore inserito (devono essere stampati tutti i valori immessi)\n",
        "  * Stampate il tipo di ciascun valore immesso da tastiera\n",
        "  * Concatenate le stringhe e stampate il risultato\n",
        "  * Eseguite alcune operazioni matematiche a vostra scelta sui valori numerici inseriti e stampate il risultato  "
      ]
    },
    {
      "cell_type": "code",
      "execution_count": 3,
      "metadata": {},
      "outputs": [
        {
          "name": "stdout",
          "output_type": "stream",
          "text": [
            "3 ciao 2 cagnaccio\n",
            "<class 'int'> <class 'str'>\n",
            "ciaocagnaccio\n",
            "9\n"
          ]
        }
      ],
      "source": [
        "n1= int(input(\"numero 1: \"))\n",
        "n2= int(input(\"numero 2: \"))\n",
        "st1= str(input(\"stringa 1: \"))\n",
        "st2= str(input(\"stringa 2: \"))\n",
        "print(n1, st1, n2, st2)\n",
        "print(type(n1), type(st2))\n",
        "print(st1 + st2)\n",
        "tot= n1 ** n2\n",
        "print(tot)"
      ]
    },
    {
      "cell_type": "markdown",
      "metadata": {
        "id": "A9SZlTvBq4Uo"
      },
      "source": [
        "### Soluzione"
      ]
    },
    {
      "cell_type": "code",
      "execution_count": null,
      "metadata": {
        "colab": {
          "base_uri": "https://localhost:8080/"
        },
        "id": "VmwFByWeq5rF",
        "outputId": "b1147203-3b1b-4599-a771-cf3c3777318e"
      },
      "outputs": [
        {
          "name": "stdout",
          "output_type": "stream",
          "text": [
            "Inserisci x1: 2\n",
            "2\n",
            "Inserisci x2: 3\n",
            "Inserisci s1: ciao\n",
            "Inserisci s2: qua\n",
            "I due numeri sono: 2 e 3, mentre le stringhe sono ciao e qua\n",
            "x1: <class 'int'>\n",
            "x2: <class 'int'>\n",
            "s1: <class 'str'>\n",
            "s2: <class 'str'>\n",
            "ciao qua\n",
            "2\n",
            "8\n"
          ]
        }
      ],
      "source": [
        "x1 = int(input(\"Inserisci x1: \"))  #raw_input()\n",
        "print(x1)\n",
        "x2 = int(input(\"Inserisci x2: \"))\n",
        "s1 = input(\"Inserisci s1: \")\n",
        "s2 = input(\"Inserisci s2: \")\n",
        "print(\"I due numeri sono: %d e %d, mentre le stringhe sono %s e %s\" %(x1,x2,s1,s2))\n",
        "#print(\"I due numeri sono: \" + str(x1) + \"e\" + str(x2) + \", mentre le stringhe sono \" + s1 + \"e\" + s2)\n",
        "print(\"x1:\", type(x1))\n",
        "print(\"x2:\", type(x2))\n",
        "print(\"s1:\", type(s1))\n",
        "print(\"s2:\", type(s2))\n",
        "print(s1+ \" \" +s2)\n",
        "print(x1%x2)\n",
        "print(x1**x2)"
      ]
    },
    {
      "cell_type": "code",
      "execution_count": null,
      "metadata": {
        "id": "2OXHv2vjq6M3"
      },
      "outputs": [],
      "source": []
    },
    {
      "cell_type": "markdown",
      "metadata": {
        "id": "VxApj_4n3AJE"
      },
      "source": [
        "## 3. Celsius-Fahrenheit"
      ]
    },
    {
      "cell_type": "markdown",
      "metadata": {
        "id": "EyZVLqcLrCC2"
      },
      "source": [
        "Per misurare la temperatura, nel mondo si usano due scale: la scala Celsius (o centigrada), la scala Fahrenheit (utilizzata nei paesi di cultura anglosassone). Le scale di temperatura sono in genere caratterizzate dalla temperatura di fusione del ghiaccio e dalla temperatura di ebollizione dell'acqua. Nella tabella seguente trovate i valori per le due scale appena citate:\n",
        "\n",
        "  | Scala | Temp. fusione ghiaccio | Temp. ebollizione dell'acqua |\n",
        "  | --- | --- | --- |\n",
        "  | Celsius | 0 | 100 |\n",
        "  | Fahrenheit | 32 | 212 |\n",
        "\n",
        "  La formula di conversione da gradi fahrenheit a gradi celsius è la seguente: **C = (F − 32) / 1,8** (F rappresenta la temperatura in gradi fahrenheit e C rappresenta la temperatura in gradi celsius).\n",
        "  Scrivete un algoritmo in Python che:\n",
        "  * richiede in input (da tastiera) una temperatura in gradi Celsius\n",
        "  * stampa a video la temperatura equivalente in gradi Fahrenheit\n",
        "  * Testate l'algoritmo con i valori presenti nella tabella qua sopra"
      ]
    },
    {
      "cell_type": "code",
      "execution_count": 7,
      "metadata": {},
      "outputs": [
        {
          "name": "stdout",
          "output_type": "stream",
          "text": [
            "50.0\n"
          ]
        }
      ],
      "source": [
        "c1=  float(input(\"enter deg in celsius: \"))\n",
        "divisione= 9/5\n",
        "f1= (c1 * divisione) + 32\n",
        "print(f1)"
      ]
    },
    {
      "cell_type": "markdown",
      "metadata": {
        "id": "vm505j_E3paC"
      },
      "source": [
        "### Soluzione\n"
      ]
    },
    {
      "cell_type": "code",
      "execution_count": null,
      "metadata": {
        "colab": {
          "base_uri": "https://localhost:8080/"
        },
        "id": "qj0BqxGJ28cF",
        "outputId": "b71aebde-0d3b-4c0a-af2a-d8dda99858ae"
      },
      "outputs": [
        {
          "name": "stdout",
          "output_type": "stream",
          "text": [
            "Immetti la temperatura in gradi Celsius: 32\n",
            "32.0 gradi Celsius corrispondono a 89.6 gradi Fahrenheit\n"
          ]
        }
      ],
      "source": [
        "celsius = float(input(\"Immetti la temperatura in gradi Celsius: \"))\n",
        "fahren = 1.8*celsius + 32\n",
        "print(\"%.1f gradi Celsius corrispondono a %.1f gradi Fahrenheit\" %(celsius,fahren))"
      ]
    },
    {
      "cell_type": "markdown",
      "metadata": {
        "id": "9XZUpkI_4KcU"
      },
      "source": [
        "## 4. Somma, sottrazione, moltiplicazione"
      ]
    },
    {
      "cell_type": "markdown",
      "metadata": {
        "id": "lhiEtbDb4TWU"
      },
      "source": [
        "Scrivete un programma che richiede in input (da tastiera) due numeri, stampi il risultato della somma, della sottrazione e della moltiplicazione dei due numeri (nota: devono essere stampati 3 risultati).\n"
      ]
    },
    {
      "cell_type": "code",
      "execution_count": null,
      "metadata": {},
      "outputs": [],
      "source": []
    },
    {
      "cell_type": "markdown",
      "metadata": {
        "id": "3ixy-IjV4kkA"
      },
      "source": [
        "### Soluzione"
      ]
    },
    {
      "cell_type": "code",
      "execution_count": null,
      "metadata": {
        "colab": {
          "base_uri": "https://localhost:8080/"
        },
        "id": "sLG3Gugz4iyl",
        "outputId": "28ae6bfc-406e-46ca-cd78-ba7c2d5e1c64"
      },
      "outputs": [
        {
          "name": "stdout",
          "output_type": "stream",
          "text": [
            "Digita due numeri\n",
            "Il primo numero è: 3\n",
            "Il secondo numero è: 2\n",
            "La somma di questi due numeri è: 5\n",
            "La sottrazione di questi due numeri è: 1\n",
            "La moltiplicazione di questi due numeri è: 6\n"
          ]
        }
      ],
      "source": [
        "print(\"Digita due numeri\")\n",
        "n1 = int(input(\"Il primo numero è: \"))\n",
        "n2 = int(input(\"Il secondo numero è: \"))\n",
        "print(\"La somma di questi due numeri è: \" + str(n1+n2))\n",
        "print(\"La sottrazione di questi due numeri è: \" + str(n1-n2))\n",
        "print(\"La moltiplicazione di questi due numeri è: \" + str(n1*n2))"
      ]
    },
    {
      "cell_type": "markdown",
      "metadata": {
        "id": "KSzqXYI24z5w"
      },
      "source": [
        "## 5. Velocità e tempo di percorrenza"
      ]
    },
    {
      "cell_type": "markdown",
      "metadata": {
        "id": "wndyvV7e45Pt"
      },
      "source": [
        "Scrivete un programma che, dati da tastiera la distanza in Km e la velocità in Km/h, calcola il tempo di percorrenza della distanza sia in minuti che in termini di minuti che di ore."
      ]
    },
    {
      "cell_type": "code",
      "execution_count": 3,
      "metadata": {},
      "outputs": [
        {
          "name": "stdout",
          "output_type": "stream",
          "text": [
            "0.16666666666666666\n",
            "10.0\n"
          ]
        }
      ],
      "source": [
        "dist = int(input(\"quanti km: \"))\n",
        "vel = float(input(\"quanto spigne: \"))\n",
        "tempo= dist / vel\n",
        "tempoin_ore= tempo * 60\n",
        "print(tempo)\n",
        "print(tempoin_ore)"
      ]
    },
    {
      "cell_type": "markdown",
      "metadata": {
        "id": "XR83ndLj5B5n"
      },
      "source": [
        "### Soluzione"
      ]
    },
    {
      "cell_type": "code",
      "execution_count": null,
      "metadata": {
        "colab": {
          "base_uri": "https://localhost:8080/"
        },
        "id": "8JXTdE7C38PJ",
        "outputId": "5d018c2b-88ef-4075-a938-fe143b73041a"
      },
      "outputs": [
        {
          "name": "stdout",
          "output_type": "stream",
          "text": [
            "Inserisci la distanza in Km: 10\n",
            "Inserisci la velocità in Km/h: 60\n",
            "Per percorrere 10.00 km alla velocità di 60.00 km/h servono 10.00 minuti\n",
            "Per percorrere 10.00 km alla velocità di 60.00 km/h servono 0.17 ore\n"
          ]
        }
      ],
      "source": [
        "dist = float(input(\"Inserisci la distanza in Km: \"))\n",
        "vel = float(input(\"Inserisci la velocità in Km/h: \"))\n",
        "tempo = (dist/vel) * 60\n",
        "print(\"Per percorrere %.2f km alla velocità di %.2f km/h servono %.2f minuti\" %(dist, vel, tempo))\n",
        "tempo_h = dist/vel\n",
        "print(\"Per percorrere %.2f km alla velocità di %.2f km/h servono %.2f ore\" %(dist, vel, tempo_h))"
      ]
    },
    {
      "cell_type": "markdown",
      "metadata": {
        "id": "ctsTOSnF5x8J"
      },
      "source": [
        "## 6. Convertitore di valuta"
      ]
    },
    {
      "cell_type": "markdown",
      "metadata": {
        "id": "X5QVrz-N6CIt"
      },
      "source": [
        "Scrivete un programma che richieda da tastiera i nomi di due valute (es. euro, dollaro, yen, …), il tasso di cambio e la quantità della prima valuta da convertire. Il programma deve calcolare il controvalore nella seconda valuta della quantità della prima valuta."
      ]
    },
    {
      "cell_type": "markdown",
      "metadata": {
        "id": "mibsgg916Lkr"
      },
      "source": [
        "### Soluzione"
      ]
    },
    {
      "cell_type": "code",
      "execution_count": null,
      "metadata": {
        "colab": {
          "base_uri": "https://localhost:8080/"
        },
        "id": "GvaO-y-t5UNV",
        "outputId": "e7df3aef-1463-4ed2-bdaa-a44970b0aab8"
      },
      "outputs": [
        {
          "name": "stdout",
          "output_type": "stream",
          "text": [
            "Convertitore di valuta\n",
            "Inserisci il nome della prima valuta: e\n",
            "Inserisci il nome della seconda valuta: d\n",
            "Ad 1 e, quanti d corrispondono?\n",
            "2\n",
            "Inizio conversione\n",
            "Qt di valuta e da convertire? 3\n",
            "3.00 e corrispondono a 6.00 d\n",
            "3.0 e corrisp. a 6.0 d\n"
          ]
        }
      ],
      "source": [
        "print(\"Convertitore di valuta\")\n",
        "n1=input(\"Inserisci il nome della prima valuta: \")\n",
        "n2=input(\"Inserisci il nome della seconda valuta: \")\n",
        "print(\"Ad 1 %s, quanti %s corrispondono?\" % (n1,n2))\n",
        "r=input()\n",
        "r=float(r)\n",
        "print(\"Inizio conversione\")\n",
        "v1=input(\"Qt di valuta %s da convertire? \" % (n1))\n",
        "v1=float(v1)\n",
        "v2= v1 * r\n",
        "print(\"%.2f %s corrispondono a %.2f %s\" % (v1,n1,v2,n2))\n",
        "#oppure\n",
        "print(str(v1) + \" \" + n1 + \" corrisp. a \" + str(v2) + \" \" + n2)\n"
      ]
    },
    {
      "cell_type": "markdown",
      "metadata": {
        "id": "85zorpw7jB9R"
      },
      "source": [
        "## 7. Calcolo sconto"
      ]
    },
    {
      "cell_type": "markdown",
      "metadata": {
        "id": "91AHqTD0xS51"
      },
      "source": [
        "Scrivete un programma che richieda da tastiera le seguenti informazioni: il prezzo unitario di vendita di un bene, la quantità venduta e lo sconto da applicare. Il programma dovrà visualizzare il prezzo totale di vendita sia prima di applicare lo sconto sia dopo averlo applicato."
      ]
    },
    {
      "cell_type": "markdown",
      "metadata": {
        "id": "a1FTGE3kxe27"
      },
      "source": [
        "### Soluzione"
      ]
    },
    {
      "cell_type": "code",
      "execution_count": null,
      "metadata": {
        "colab": {
          "base_uri": "https://localhost:8080/"
        },
        "id": "5q7zTzs8jF5z",
        "outputId": "db689aff-ccc9-4c2b-f6f3-b531f2bd955b"
      },
      "outputs": [
        {
          "name": "stdout",
          "output_type": "stream",
          "text": [
            "Calcolo sconto\n",
            "Inserisci il prezzo unitario: 2\n",
            "Inserisci la quantita: 2\n",
            "Inserisci lo sconto in percentuale: 50\n",
            "Il prezzo di vendita totale prima dello sconto e': 4.000000\n",
            "Il prezzo di vendita totale dopo lo sconto e': 2.0\n"
          ]
        }
      ],
      "source": [
        "print(\"Calcolo sconto\")\n",
        "pu=input(\"Inserisci il prezzo unitario: \")\n",
        "pu = float(pu)\n",
        "qt=input(\"Inserisci la quantita: \")\n",
        "qt = float(qt)\n",
        "sc=input(\"Inserisci lo sconto in percentuale: \")\n",
        "sc = float(sc)\n",
        "pvtot=pu*qt\n",
        "print(\"Il prezzo di vendita totale prima dello sconto e': %f\" %(pvtot) )\n",
        "pvsc=pvtot * (100 - sc) / 100.0\n",
        "print(\"Il prezzo di vendita totale dopo lo sconto e': \" + str(pvsc) )\n"
      ]
    },
    {
      "cell_type": "markdown",
      "metadata": {
        "id": "4DfgVZqthvJB"
      },
      "source": [
        "# Day 2"
      ]
    },
    {
      "cell_type": "markdown",
      "metadata": {
        "id": "prY-dEZ6G5CN"
      },
      "source": [
        "## Esercizi insieme\n"
      ]
    },
    {
      "cell_type": "markdown",
      "metadata": {
        "id": "sLiotYsipQWV"
      },
      "source": [
        "### In che paese ti trovi?\n",
        "\n",
        "Da oggi è entrato in vigore il nuovo DPCM, che in base al paese determina i requisiti per il rientro in Italia. Dove ti trovi tra Lisbona, Bali o Milano?"
      ]
    },
    {
      "cell_type": "code",
      "execution_count": null,
      "metadata": {
        "id": "xpw--XigUY-8"
      },
      "outputs": [],
      "source": [
        "città=input('Inserisci dove ti trovi tra Lisbona, Bali e Milano: ')"
      ]
    },
    {
      "cell_type": "code",
      "execution_count": null,
      "metadata": {
        "colab": {
          "base_uri": "https://localhost:8080/"
        },
        "id": "gH-o-kClB1lJ",
        "outputId": "6c06e430-e38c-46ba-b39e-8219d536f0f9"
      },
      "outputs": [
        {
          "name": "stdout",
          "output_type": "stream",
          "text": [
            "Inserisci dove ti trovi tra Lisbona, Bali e Milano: Lisbona\n",
            "Per rientrare in Italia dal Portogallo serve aver effettuato un tampone entro 24 ore prima della partenza, poi aver compilato il PLF\n"
          ]
        }
      ],
      "source": [
        "città=input('Inserisci dove ti trovi tra Lisbona, Bali e Milano: ')\n",
        "\n",
        "città= città.lower()\n",
        "\n",
        "\n",
        "if città == 'lisbona':\n",
        "  print('Per rientrare in Italia dal Portogallo serve aver effettuato un tampone entro 24 ore prima della partenza, poi aver compilato il PLF')\n",
        "\n",
        "elif città == 'bali':\n",
        "  print('Se vi trovate a Bali, perché tornare? La cosa migliore è restarci. È molto bello!')\n",
        "\n",
        "elif città == 'milano':\n",
        "  print('Ottimo, sei già a Milano. Se esci per un aperitivo, metti la mascherina e non andare in posti affollati!')\n",
        "\n",
        "else:\n",
        "  print('Non ti trovi tra i paesi elencati')\n",
        "\n"
      ]
    },
    {
      "cell_type": "markdown",
      "metadata": {
        "id": "wCaPI0ih4xgW"
      },
      "source": [
        "### One line if statement"
      ]
    },
    {
      "cell_type": "markdown",
      "metadata": {
        "id": "_PdA68bc46Al"
      },
      "source": [
        "Se lo statement if-else è molto semplice, può anche essere scritto in una sola linea. A volte è molto comodo."
      ]
    },
    {
      "cell_type": "code",
      "execution_count": null,
      "metadata": {
        "colab": {
          "base_uri": "https://localhost:8080/"
        },
        "id": "zC9A6tjd3b-m",
        "outputId": "d19b3356-734e-4421-a155-b353cdc0f9b6"
      },
      "outputs": [
        {
          "name": "stdout",
          "output_type": "stream",
          "text": [
            "Stop! They are too much, al least at 6pm!\n"
          ]
        }
      ],
      "source": [
        "num_of_drinks = 3\n",
        "\n",
        "# first method\n",
        "\n",
        "\"Ok, that's fine!\" if num_of_drinks < 3 else \"Stop! They are too much, al least at 6pm!\"\n",
        "\n",
        "# second method\n",
        "\n",
        "if num_of_drinks < 3:\n",
        "  print(\"Ok, that's fine!\")\n",
        "else:\n",
        "  print(\"Stop! They are too much, al least at 6pm!\")"
      ]
    },
    {
      "cell_type": "markdown",
      "metadata": {
        "id": "vFjZS5hK5EeS"
      },
      "source": [
        "Può anche essere reso più complesso..."
      ]
    },
    {
      "cell_type": "code",
      "execution_count": null,
      "metadata": {
        "colab": {
          "base_uri": "https://localhost:8080/",
          "height": 35
        },
        "id": "_8XP5tRg4dwu",
        "outputId": "01df5f71-a5c2-401a-c336-42e55cf97e62"
      },
      "outputs": [
        {
          "data": {
            "application/vnd.google.colaboratory.intrinsic+json": {
              "type": "string"
            },
            "text/plain": [
              "'Stop! They are too much, al least at 6pm!'"
            ]
          },
          "execution_count": 23,
          "metadata": {},
          "output_type": "execute_result"
        }
      ],
      "source": [
        "num_of_drinks = 3\n",
        "\n",
        "'Go on and have fun!' if num_of_drinks < 2 else \"Ok, that's fine!\" if num_of_drinks < 3 else \"Stop! They are too much, al least at 6pm!\""
      ]
    },
    {
      "cell_type": "markdown",
      "metadata": {
        "id": "ZSMpGDuuiuun"
      },
      "source": [
        "## 8. Calcolo delle radici di un’equazione di 2° grado"
      ]
    },
    {
      "cell_type": "markdown",
      "metadata": {
        "id": "01teezVMiMQu"
      },
      "source": [
        "Scrivete un programma che richieda da tastiera i coefficienti $a, b, c$ di un’equazione di secondo grado:\n",
        "\n",
        "$$ax^2 + bx + c = 0.$$\n",
        "\n",
        "Il programma dovrà stampare le radici, ossia le soluzioni, dell’equazione."
      ]
    },
    {
      "cell_type": "markdown",
      "metadata": {
        "id": "YKcN33MTiqod"
      },
      "source": [
        "### Soluzione:"
      ]
    },
    {
      "cell_type": "code",
      "execution_count": null,
      "metadata": {
        "id": "Nt1ZOQtahwyK"
      },
      "outputs": [],
      "source": [
        "# To DO\n"
      ]
    },
    {
      "cell_type": "markdown",
      "metadata": {
        "id": "sMvA6VJPnN4a"
      },
      "source": [
        "## 9. Trova il massimo"
      ]
    },
    {
      "cell_type": "markdown",
      "metadata": {
        "id": "QZm5spbGntoD"
      },
      "source": [
        "Scrivete un programma che richiede in input due valori numerici (tra loro diversi) e stampa il maggiore dei due. Nota: non occorre che il programma verifichi che i due valori siano diversi."
      ]
    },
    {
      "cell_type": "markdown",
      "metadata": {
        "id": "oTMAkKV3o0q_"
      },
      "source": [
        "### Soluzione:"
      ]
    },
    {
      "cell_type": "code",
      "execution_count": null,
      "metadata": {
        "id": "rpmc_MT_n1f5"
      },
      "outputs": [],
      "source": [
        "## TO DO"
      ]
    },
    {
      "cell_type": "markdown",
      "metadata": {
        "id": "lfHqZJN3o3m7"
      },
      "source": [
        "## 10. Calcolatrice"
      ]
    },
    {
      "cell_type": "markdown",
      "metadata": {
        "id": "Qt9qE5QmpCf9"
      },
      "source": [
        "Scrivete un programma python che richiede in input da tastiera 3 valori: due operandi e l’operazione da svolgere sui due operandi:\n",
        "\n",
        "* il primo e il secondo valore immessi da tastiera rappresentano gli operandi dell’operazione;\n",
        "\n",
        "* il terzo valore immesso da tastiera rappresenta un’operazione da svolgere (per esempio potete stabilire che “1” corrisponde all’operazione di somma, “2” corrisponde all’operazione di sottrazione, e così via).\n",
        "\n",
        "Le operazioni ammesse sono somma, sottrazione, moltiplicazione e divisione. Stampate a video il risultato dell’operazione scelta dall’utente applicata ai due operandi numerici.\n"
      ]
    },
    {
      "cell_type": "markdown",
      "metadata": {
        "id": "_U7BjMfEpYT4"
      },
      "source": [
        "### Soluzione:"
      ]
    },
    {
      "cell_type": "code",
      "execution_count": null,
      "metadata": {
        "id": "gsVro55Vn-l1"
      },
      "outputs": [],
      "source": [
        "## TO DO\n"
      ]
    },
    {
      "cell_type": "markdown",
      "metadata": {
        "id": "r_kNIhibqRzG"
      },
      "source": [
        "## 11. Identificare i divisori"
      ]
    },
    {
      "cell_type": "markdown",
      "metadata": {
        "id": "TvSzDX23rU-g"
      },
      "source": [
        "Scrivete un programma che richieda in input due numeri e analizzando tali numeri riesca ad individuare le seguenti situazioni:\n",
        "\n",
        "* il primo numero è un divisore del secondo;\n",
        "* il secondo numero è un divisore del primo;\n",
        "* nessuno dei due casi precedenti.\n",
        "\n",
        "Il programma dovrà visualizzare con un messaggio a video in quale delle tre situazioni i due numeri si vengono a trovare.\n",
        "\n",
        "Nota: vi conviene utilizzare l’operatore % (modulo) che calcola il resto della divisione intera di due numeri.\n"
      ]
    },
    {
      "cell_type": "markdown",
      "metadata": {
        "id": "fJXE0YA-rj5E"
      },
      "source": [
        "### Soluzione"
      ]
    },
    {
      "cell_type": "code",
      "execution_count": null,
      "metadata": {
        "id": "YMpJ7X2vrlGj"
      },
      "outputs": [],
      "source": [
        "## TO DO"
      ]
    },
    {
      "cell_type": "markdown",
      "metadata": {
        "id": "iub2nr4Utg7g"
      },
      "source": [
        "## 12. Classificazione"
      ]
    },
    {
      "cell_type": "markdown",
      "metadata": {
        "id": "V2QMG4xiuipt"
      },
      "source": [
        "Scrivete un programma in python che richiede un numero intero da tastiera. Il programma deve classificare il numero inserito in una delle seguenti classi:\n",
        "\n",
        "* numeri minori di 0: classe K;\n",
        "* numeri da   0 a 10: classe A;\n",
        "* numeri da 11 a 20: classe B;\n",
        "* numeri da 21 a 30: classe C;\n",
        "* numeri da 31 a 40: classe E;\n",
        "* numeri da 41 a 50: classe F;\n",
        "* numeri > 50: classe G.\n",
        "\n",
        "Il programma deve stampare a video sia il numero inserito da tastiera, sia la classe di appartenenza.\n"
      ]
    },
    {
      "cell_type": "markdown",
      "metadata": {
        "id": "M1fd_KLVwrn6"
      },
      "source": [
        "### Soluzione:"
      ]
    },
    {
      "cell_type": "code",
      "execution_count": null,
      "metadata": {
        "id": "eRmEDKGds-C9"
      },
      "outputs": [],
      "source": [
        "## TO DO"
      ]
    },
    {
      "cell_type": "markdown",
      "metadata": {
        "id": "jhRgH56JxSXx"
      },
      "source": [
        "## 13. Riconoscimento Triangoli"
      ]
    },
    {
      "cell_type": "markdown",
      "metadata": {
        "id": "n1SdurJ9xWYM"
      },
      "source": [
        "Leggete tre valori in input, rispettivamente $a, b$ e $c$ che rappresentano le lunghezze dei tre lati di un triangolo. Richiedete che le lunghezze vengano inserite dalla più piccola alla più grande, cioè $a\\leq b$ e $b\\leq c$, valutare se possono essere i tre lati di un triangolo, e se sì deciderne il tipo (scaleno, isoscele, equilatero) e stamparlo a video.\n",
        "\n",
        "Occorre tenere presente che:\n",
        "tre segmenti rappresentano i lati di un triangolo se il lato maggiore è minore della somma degli altri due\n",
        "se i lati sono tutti uguali si tratta di un triangolo equilatero\n",
        "se solo due sono uguali si tratta di un triangolo isoscele\n",
        "\n",
        "Consiglio: provate a disegnare il flow chart dell’algoritmo prima di iniziare a implementarlo in Python.\n"
      ]
    },
    {
      "cell_type": "markdown",
      "metadata": {
        "id": "zCueJc7EzfcD"
      },
      "source": [
        "### Soluzione:"
      ]
    },
    {
      "cell_type": "code",
      "execution_count": null,
      "metadata": {
        "id": "Nf-cYXjTwxsn"
      },
      "outputs": [],
      "source": [
        "## TO DO"
      ]
    },
    {
      "cell_type": "markdown",
      "metadata": {
        "id": "mrjtvD4V04E0"
      },
      "source": [
        "## 14. Prezzi biglietti aerei\n"
      ]
    },
    {
      "cell_type": "markdown",
      "metadata": {
        "id": "YY3zgO2uE2JB"
      },
      "source": [
        "Una compagnia aerea applica la tariffa fissa di 30€ a biglietto se ne vengono già ordinati almeno 10 per tutto il corso dell'anno. Se un viaggiatore ordina più di 10 biglietti, può scegliere invece tra i seguenti sconti:\n",
        "\n",
        "* pagare i biglietti che eccedono i primi 10 al prezzo di 20€ l'uno (I primi 10 sono comunque tariffati a 30€ l'uno);\n",
        "\n",
        "* pagare tutti i biglietti 30€ l’uno, ma ogni 4 biglietti venduti oltre i primi 8, uno viene regalato (questa forma di sconto non si applica se l’ordine non è di almeno 10 biglietti).\n",
        "\n",
        "Scrivete un programma che richieda in input il numero dei biglietti da acquistare e visualizzi in output se è applicabile uno sconto e quale delle due forme di sconto è più conveniente per il viaggiatore."
      ]
    },
    {
      "cell_type": "code",
      "execution_count": null,
      "metadata": {
        "id": "bD_lil010y6R"
      },
      "outputs": [],
      "source": [
        "## TO DO"
      ]
    },
    {
      "cell_type": "markdown",
      "metadata": {
        "id": "xVv9H6bgqAtr"
      },
      "source": [
        "## 15. Media, numerosità predeterminata\n"
      ]
    },
    {
      "cell_type": "markdown",
      "metadata": {
        "id": "HsG83_czqT7I"
      },
      "source": [
        "Scrivete un programma che calcoli la media di un insieme di numeri immessi da tastiera. Il programma deve richiedere le dimensioni dell’insieme (cioè di quanti numeri dovrà essere calcolata la media) in anticipo, cioè prima di richiedere a tastiera i singoli valori. Stampate a video il valore della media.\n",
        "\n",
        "Nota: usare `while` e introdurre un contatore per tenere conto del numero di valori inseriti."
      ]
    },
    {
      "cell_type": "markdown",
      "metadata": {
        "id": "8-_jkP1jqk6P"
      },
      "source": [
        "### Soluzione:"
      ]
    },
    {
      "cell_type": "code",
      "execution_count": null,
      "metadata": {
        "id": "vWHA5ltUp_0D"
      },
      "outputs": [],
      "source": [
        "## TO DO"
      ]
    }
  ],
  "metadata": {
    "accelerator": "GPU",
    "colab": {
      "collapsed_sections": [
        "BGLFzmKehegu",
        "gc-BHxyifHj7",
        "3usGgQ6ypEez",
        "A9SZlTvBq4Uo",
        "VxApj_4n3AJE",
        "vm505j_E3paC",
        "9XZUpkI_4KcU",
        "3ixy-IjV4kkA",
        "KSzqXYI24z5w",
        "XR83ndLj5B5n",
        "ctsTOSnF5x8J",
        "lfHqZJN3o3m7"
      ],
      "machine_shape": "hm",
      "provenance": []
    },
    "kernelspec": {
      "display_name": "Python 3",
      "name": "python3"
    },
    "language_info": {
      "codemirror_mode": {
        "name": "ipython",
        "version": 3
      },
      "file_extension": ".py",
      "mimetype": "text/x-python",
      "name": "python",
      "nbconvert_exporter": "python",
      "pygments_lexer": "ipython3",
      "version": "3.9.6"
    }
  },
  "nbformat": 4,
  "nbformat_minor": 0
}
